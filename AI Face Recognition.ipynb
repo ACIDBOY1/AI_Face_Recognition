{
 "cells": [
  {
   "cell_type": "code",
   "execution_count": 97,
   "metadata": {
    "_cell_guid": "b1076dfc-b9ad-4769-8c92-a6c4dae69d19",
    "_kg_hide-input": true,
    "_uuid": "8f2839f25d086af736a60e9eeb907d3b93b6e0e5",
    "execution": {
     "iopub.execute_input": "2024-10-22T14:43:13.315327Z",
     "iopub.status.busy": "2024-10-22T14:43:13.314661Z",
     "iopub.status.idle": "2024-10-22T14:43:13.327659Z",
     "shell.execute_reply": "2024-10-22T14:43:13.326414Z",
     "shell.execute_reply.started": "2024-10-22T14:43:13.315222Z"
    },
    "trusted": true
   },
   "outputs": [
    {
     "name": "stdout",
     "output_type": "stream",
     "text": [
      "['olivetti_faces_target.npy', 'olivetti_faces.npy']\n"
     ]
    }
   ],
   "source": [
    "import numpy as np # линейная алгебра \n",
    "import pandas as pd # работа с датасетом \n",
    "\n",
    "#Визуализация\n",
    "import matplotlib.pyplot as plt\n",
    "\n",
    "#Машинное обучение\n",
    "from sklearn.model_selection import train_test_split\n",
    "from sklearn.decomposition import PCA\n",
    "from sklearn.svm import SVC\n",
    "from sklearn.naive_bayes import GaussianNB\n",
    "from sklearn.neighbors import KNeighborsClassifier\n",
    "from sklearn.tree import DecisionTreeClassifier\n",
    "from sklearn.linear_model import LogisticRegression\n",
    "from sklearn.discriminant_analysis import LinearDiscriminantAnalysis\n",
    "from sklearn import metrics\n",
    "\n",
    "#Система\n",
    "import os\n",
    "print(os.listdir(\"../input\"))"
   ]
  },
  {
   "cell_type": "code",
   "execution_count": 98,
   "metadata": {
    "_kg_hide-input": true,
    "_uuid": "96a9d13d1ece2be604e30734085d6e4b2f8560fa",
    "execution": {
     "iopub.execute_input": "2024-10-22T14:43:13.330452Z",
     "iopub.status.busy": "2024-10-22T14:43:13.329890Z",
     "iopub.status.idle": "2024-10-22T14:43:13.336625Z",
     "shell.execute_reply": "2024-10-22T14:43:13.335254Z",
     "shell.execute_reply.started": "2024-10-22T14:43:13.330397Z"
    },
    "trusted": true
   },
   "outputs": [],
   "source": [
    "import warnings #Отключение предупреждений для чистоты визуализации\n",
    "warnings.filterwarnings('ignore')"
   ]
  },
  {
   "cell_type": "code",
   "execution_count": 99,
   "metadata": {
    "_cell_guid": "79c7e3d0-c299-4dcb-8224-4455121ee9b0",
    "_uuid": "d629ff2d2480ee46fbb7e2d37f6b5fab8052498a",
    "execution": {
     "iopub.execute_input": "2024-10-22T14:43:13.338472Z",
     "iopub.status.busy": "2024-10-22T14:43:13.338059Z",
     "iopub.status.idle": "2024-10-22T14:43:13.355400Z",
     "shell.execute_reply": "2024-10-22T14:43:13.354072Z",
     "shell.execute_reply.started": "2024-10-22T14:43:13.338435Z"
    },
    "trusted": true
   },
   "outputs": [],
   "source": [
    "data=np.load(\"../input/olivetti_faces.npy\")\n",
    "target=np.load(\"../input/olivetti_faces_target.npy\")"
   ]
  },
  {
   "cell_type": "markdown",
   "metadata": {
    "_uuid": "dd30f7e91eb117d236d07a9474fa092a318dfc2c"
   },
   "source": [
    "Проверка приведённой информации:"
   ]
  },
  {
   "cell_type": "code",
   "execution_count": 100,
   "metadata": {
    "_uuid": "d7e3fbc073596db334f34d33e44015c3cd906496",
    "execution": {
     "iopub.execute_input": "2024-10-22T14:43:13.358130Z",
     "iopub.status.busy": "2024-10-22T14:43:13.357716Z",
     "iopub.status.idle": "2024-10-22T14:43:13.365913Z",
     "shell.execute_reply": "2024-10-22T14:43:13.364822Z",
     "shell.execute_reply.started": "2024-10-22T14:43:13.358058Z"
    },
    "trusted": true
   },
   "outputs": [
    {
     "name": "stdout",
     "output_type": "stream",
     "text": [
      "В датасете 400 изображений\n",
      "В датасете 40 уникальных людей\n",
      "Размер каждого изображения 64x64\n"
     ]
    }
   ],
   "source": [
    "print(\"В датасете {} изображений\".format(len(data)))\n",
    "print(\"В датасете {} уникальных людей\".format(len(np.unique(target))))\n",
    "print(\"Размер каждого изображения {}x{}\".format(data.shape[1],data.shape[2]))"
   ]
  },
  {
   "cell_type": "code",
   "execution_count": 101,
   "metadata": {
    "_uuid": "cf9c84953686b22ea7029ac0fc317ed4514692fb",
    "execution": {
     "iopub.execute_input": "2024-10-22T14:43:13.367493Z",
     "iopub.status.busy": "2024-10-22T14:43:13.367159Z",
     "iopub.status.idle": "2024-10-22T14:43:13.378551Z",
     "shell.execute_reply": "2024-10-22T14:43:13.377348Z",
     "shell.execute_reply.started": "2024-10-22T14:43:13.367459Z"
    },
    "trusted": true
   },
   "outputs": [
    {
     "name": "stdout",
     "output_type": "stream",
     "text": [
      "Номера уникальных людей: [ 0  1  2  3  4  5  6  7  8  9 10 11 12 13 14 15 16 17 18 19 20 21 22 23\n",
      " 24 25 26 27 28 29 30 31 32 33 34 35 36 37 38 39]\n"
     ]
    }
   ],
   "source": [
    "print(\"Номера уникальных людей:\",np.unique(target))"
   ]
  },
  {
   "cell_type": "markdown",
   "metadata": {
    "_uuid": "3ad358cb830c332890d66ada91bf3d98c62e6751"
   },
   "source": [
    "\n",
    "<a class=\"anchor\" id=\"2.1.\"></a>**3.1. Демонстрация 40 разных людей в датасете** "
   ]
  },
  {
   "cell_type": "code",
   "execution_count": 102,
   "metadata": {
    "_uuid": "9bca0672dd6098b71de79dcb5f0e26dc6acf6646",
    "execution": {
     "iopub.execute_input": "2024-10-22T14:43:13.380148Z",
     "iopub.status.busy": "2024-10-22T14:43:13.379770Z",
     "iopub.status.idle": "2024-10-22T14:43:13.391019Z",
     "shell.execute_reply": "2024-10-22T14:43:13.389817Z",
     "shell.execute_reply.started": "2024-10-22T14:43:13.380112Z"
    },
    "trusted": true
   },
   "outputs": [],
   "source": [
    "def show_40_distinct_people(images, unique_ids):\n",
    "    #Создание 4X10 сабплотов в  18x9 размере\n",
    "    fig, axarr=plt.subplots(nrows=4, ncols=10, figsize=(18, 9))\n",
    "    #Для удобства выполнения итераций.\n",
    "    axarr=axarr.flatten()\n",
    "    \n",
    "    #Перебор идентификаторов пользователей\n",
    "    for unique_id in unique_ids:\n",
    "        image_index=unique_id*10\n",
    "        axarr[unique_id].imshow(images[image_index], cmap='gray')\n",
    "        axarr[unique_id].set_xticks([])\n",
    "        axarr[unique_id].set_yticks([])\n",
    "        axarr[unique_id].set_title(\"face id:{}\".format(unique_id))\n",
    "    plt.suptitle(\"В наборе данных есть 40 разных людей\")"
   ]
  },
  {
   "cell_type": "markdown",
   "metadata": {
    "_uuid": "ee40b73f0973be6b1a691edc1e4bcc626d5e6093"
   },
   "source": [
    "<a class=\"anchor\" id=\"2.2.\">"
   ]
  },
  {
   "cell_type": "markdown",
   "metadata": {
    "_uuid": "ba59eb9ce014ff37a845098b8acdf1713d271ece"
   },
   "source": [
    "\n",
    "<a  class=\"anchor\" id=\"2.2.\"></a>**3.2. Покажем 10 изображений лица выбранного человека** "
   ]
  },
  {
   "cell_type": "code",
   "execution_count": 104,
   "metadata": {
    "_uuid": "b4e9c34346c8edbdb383413c15093ccae01b139c",
    "execution": {
     "iopub.execute_input": "2024-10-22T14:43:15.816795Z",
     "iopub.status.busy": "2024-10-22T14:43:15.816257Z",
     "iopub.status.idle": "2024-10-22T14:43:15.826536Z",
     "shell.execute_reply": "2024-10-22T14:43:15.825457Z",
     "shell.execute_reply.started": "2024-10-22T14:43:15.816743Z"
    },
    "trusted": true
   },
   "outputs": [],
   "source": [
    "def show_10_faces_of_n_subject(images, subject_ids):\n",
    "    cols=10# у каждого объекта есть 10 различных изображений лица\n",
    "    rows=(len(subject_ids)*10)/cols #\n",
    "    rows=int(rows)\n",
    "    \n",
    "    fig, axarr=plt.subplots(nrows=rows, ncols=cols, figsize=(18,9))\n",
    "    \n",
    "    for i, subject_id in enumerate(subject_ids):\n",
    "        for j in range(cols):\n",
    "            image_index=subject_id*10 + j\n",
    "            axarr[i,j].imshow(images[image_index], cmap=\"gray\")\n",
    "            axarr[i,j].set_xticks([])\n",
    "            axarr[i,j].set_yticks([])\n",
    "            axarr[i,j].set_title(\"face id:{}\".format(subject_id))\n",
    "    "
   ]
  },
  {
   "cell_type": "markdown",
   "metadata": {
    "_uuid": "edd1f720b2a8157bff48c588fc8ec20560c5b9d6"
   },
   "source": [
    "\n",
    "<a class=\"anchor\" id=\"3.\"></a>**4. Модель машинного обучения для распознавания лиц**\n",
    "\n",
    "Модели машинного обучения могут работать с векторами. \n",
    "Поскольку данные изображения представлены в матричной форме, их необходимо преобразовать в векторную."
   ]
  },
  {
   "cell_type": "code",
   "execution_count": 106,
   "metadata": {
    "_uuid": "7d28cc3f01f9ca1fc6a5abb5487ed1e551bebffd",
    "execution": {
     "iopub.execute_input": "2024-10-22T14:43:19.173680Z",
     "iopub.status.busy": "2024-10-22T14:43:19.173274Z",
     "iopub.status.idle": "2024-10-22T14:43:19.180996Z",
     "shell.execute_reply": "2024-10-22T14:43:19.179194Z",
     "shell.execute_reply.started": "2024-10-22T14:43:19.173637Z"
    },
    "trusted": true
   },
   "outputs": [
    {
     "name": "stdout",
     "output_type": "stream",
     "text": [
      "X: (400, 4096)\n"
     ]
    }
   ],
   "source": [
    "#Изменение формы изображений для модели машинного обучения\n",
    "X=data.reshape((data.shape[0],data.shape[1]*data.shape[2]))\n",
    "print(\"X:\",X.shape)"
   ]
  },
  {
   "cell_type": "markdown",
   "metadata": {
    "_uuid": "078374d3c594d88ea6f9c68b5023cdee08a26715"
   },
   "source": [
    "\n",
    "<a class=\"anchor\" id=\"3.1.\"></a>**4.1. Разделение данных и таргет на случайные обучающие и тестовые подмножества** \n",
    "\n",
    "Набор данных содержит по 10 изображений лиц для каждого испытуемого. 70% изображений лиц будут использованы для обучения, а 30% - для тестирования. Используется функция стратификации, позволяющая получить равное количество обучающих и тестовых изображений для каждого испытуемого. Таким образом, для каждого предмета будет 7 обучающих изображений и 3 тестовых. Вы можете играть с показателями обучения и тестирования."
   ]
  },
  {
   "cell_type": "code",
   "execution_count": 107,
   "metadata": {
    "_uuid": "6fdb28457f4a04aa7935dd4b6c03c9fec8d80128",
    "execution": {
     "iopub.execute_input": "2024-10-22T14:43:19.182808Z",
     "iopub.status.busy": "2024-10-22T14:43:19.182445Z",
     "iopub.status.idle": "2024-10-22T14:43:19.203055Z",
     "shell.execute_reply": "2024-10-22T14:43:19.201900Z",
     "shell.execute_reply.started": "2024-10-22T14:43:19.182768Z"
    },
    "trusted": true
   },
   "outputs": [
    {
     "name": "stdout",
     "output_type": "stream",
     "text": [
      "X: (280, 4096)\n",
      "y:(280,)\n"
     ]
    }
   ],
   "source": [
    "X_train, X_test, y_train, y_test=train_test_split(X, target, test_size=0.3, stratify=target, random_state=0)\n",
    "print(\"X:\",X_train.shape)\n",
    "print(\"y:{}\".format(y_train.shape))"
   ]
  },
  {
   "cell_type": "markdown",
   "metadata": {
    "_uuid": "e1a5513ff1451c4695339a81152c7bd02ba50557"
   },
   "source": [
    "\n",
    "<a class=\"anchor\" id=\"3.2.\"></a>**4.2.Анализ основных компонентов**\n"
   ]
  },
  {
   "cell_type": "code",
   "execution_count": 109,
   "metadata": {
    "_uuid": "d66ce6d45794a1d16db34f11bae1317552def452",
    "execution": {
     "iopub.execute_input": "2024-10-22T14:43:19.783951Z",
     "iopub.status.busy": "2024-10-22T14:43:19.783559Z",
     "iopub.status.idle": "2024-10-22T14:43:19.850041Z",
     "shell.execute_reply": "2024-10-22T14:43:19.848771Z",
     "shell.execute_reply.started": "2024-10-22T14:43:19.783913Z"
    },
    "trusted": true
   },
   "outputs": [],
   "source": [
    "from sklearn.decomposition import PCA\n",
    "pca=PCA(n_components=2)\n",
    "pca.fit(X)\n",
    "X_pca=pca.transform(X)"
   ]
  },
  {
   "cell_type": "markdown",
   "metadata": {
    "_uuid": "a296c20520a65eeb73fa8ed057105ef972b2f36d"
   },
   "source": [
    "\n",
    "<a class=\"anchor\" id=\"3.4.\"></a>**4.3. Нахождение оптимального количества основных компонентов**"
   ]
  },
  {
   "cell_type": "code",
   "execution_count": 111,
   "metadata": {
    "_uuid": "44e4df2776a9a7ce03a0d9304d8d91a2291d4abb",
    "execution": {
     "iopub.execute_input": "2024-10-22T14:43:20.317201Z",
     "iopub.status.busy": "2024-10-22T14:43:20.316699Z",
     "iopub.status.idle": "2024-10-22T14:43:20.872865Z",
     "shell.execute_reply": "2024-10-22T14:43:20.871450Z",
     "shell.execute_reply.started": "2024-10-22T14:43:20.317150Z"
    },
    "trusted": true
   },
   "outputs": [
    {
     "data": {
      "image/png": "[encoded data removed]",
      "text/plain": [
       "<Figure size 1200x800 with 1 Axes>"
      ]
     },
     "metadata": {},
     "output_type": "display_data"
    }
   ],
   "source": [
    "pca=PCA()\n",
    "pca.fit(X)\n",
    "\n",
    "plt.figure(1, figsize=(12,8))\n",
    "\n",
    "plt.plot(pca.explained_variance_, linewidth=2)\n",
    " \n",
    "plt.xlabel('Компоненты')\n",
    "plt.ylabel('Объясненные различия')\n",
    "plt.show()"
   ]
  },
  {
   "cell_type": "markdown",
   "metadata": {
    "_uuid": "dc9352dd03b1519f6579253dd811f134bc550ef2"
   },
   "source": [
    "На рисунке выше видно, что 90 и более компонентов PCA представляют одни и те же данные. Теперь давайте проведем классификацию, используя 90 компонентов PCA."
   ]
  },
  {
   "cell_type": "code",
   "execution_count": 112,
   "metadata": {
    "_uuid": "6fb93697ac6844005785d661d08e1dfcfba9df79",
    "execution": {
     "iopub.execute_input": "2024-10-22T14:43:20.879501Z",
     "iopub.status.busy": "2024-10-22T14:43:20.879130Z",
     "iopub.status.idle": "2024-10-22T14:43:20.884175Z",
     "shell.execute_reply": "2024-10-22T14:43:20.882901Z",
     "shell.execute_reply.started": "2024-10-22T14:43:20.879465Z"
    },
    "trusted": true
   },
   "outputs": [],
   "source": [
    "n_components=90"
   ]
  },
  {
   "cell_type": "code",
   "execution_count": 113,
   "metadata": {
    "_uuid": "268287558edec2752f731ae592b660f5997e356c",
    "execution": {
     "iopub.execute_input": "2024-10-22T14:43:20.886742Z",
     "iopub.status.busy": "2024-10-22T14:43:20.886002Z",
     "iopub.status.idle": "2024-10-22T14:43:21.458680Z",
     "shell.execute_reply": "2024-10-22T14:43:21.457745Z",
     "shell.execute_reply.started": "2024-10-22T14:43:20.886701Z"
    },
    "trusted": true
   },
   "outputs": [
    {
     "data": {
      "text/html": [
       "<style>#sk-container-id-3 {color: black;background-color: white;}#sk-container-id-3 pre{padding: 0;}#sk-container-id-3 div.sk-toggleable {background-color: white;}#sk-container-id-3 label.sk-toggleable__label {cursor: pointer;display: block;width: 100%;margin-bottom: 0;padding: 0.3em;box-sizing: border-box;text-align: center;}#sk-container-id-3 label.sk-toggleable__label-arrow:before {content: \"▸\";float: left;margin-right: 0.25em;color: #696969;}#sk-container-id-3 label.sk-toggleable__label-arrow:hover:before {color: black;}#sk-container-id-3 div.sk-estimator:hover label.sk-toggleable__label-arrow:before {color: black;}#sk-container-id-3 div.sk-toggleable__content {max-height: 0;max-width: 0;overflow: hidden;text-align: left;background-color: #f0f8ff;}#sk-container-id-3 div.sk-toggleable__content pre {margin: 0.2em;color: black;border-radius: 0.25em;background-color: #f0f8ff;}#sk-container-id-3 input.sk-toggleable__control:checked~div.sk-toggleable__content {max-height: 200px;max-width: 100%;overflow: auto;}#sk-container-id-3 input.sk-toggleable__control:checked~label.sk-toggleable__label-arrow:before {content: \"▾\";}#sk-container-id-3 div.sk-estimator input.sk-toggleable__control:checked~label.sk-toggleable__label {background-color: #d4ebff;}#sk-container-id-3 div.sk-label input.sk-toggleable__control:checked~label.sk-toggleable__label {background-color: #d4ebff;}#sk-container-id-3 input.sk-hidden--visually {border: 0;clip: rect(1px 1px 1px 1px);clip: rect(1px, 1px, 1px, 1px);height: 1px;margin: -1px;overflow: hidden;padding: 0;position: absolute;width: 1px;}#sk-container-id-3 div.sk-estimator {font-family: monospace;background-color: #f0f8ff;border: 1px dotted black;border-radius: 0.25em;box-sizing: border-box;margin-bottom: 0.5em;}#sk-container-id-3 div.sk-estimator:hover {background-color: #d4ebff;}#sk-container-id-3 div.sk-parallel-item::after {content: \"\";width: 100%;border-bottom: 1px solid gray;flex-grow: 1;}#sk-container-id-3 div.sk-label:hover label.sk-toggleable__label {background-color: #d4ebff;}#sk-container-id-3 div.sk-serial::before {content: \"\";position: absolute;border-left: 1px solid gray;box-sizing: border-box;top: 0;bottom: 0;left: 50%;z-index: 0;}#sk-container-id-3 div.sk-serial {display: flex;flex-direction: column;align-items: center;background-color: white;padding-right: 0.2em;padding-left: 0.2em;position: relative;}#sk-container-id-3 div.sk-item {position: relative;z-index: 1;}#sk-container-id-3 div.sk-parallel {display: flex;align-items: stretch;justify-content: center;background-color: white;position: relative;}#sk-container-id-3 div.sk-item::before, #sk-container-id-3 div.sk-parallel-item::before {content: \"\";position: absolute;border-left: 1px solid gray;box-sizing: border-box;top: 0;bottom: 0;left: 50%;z-index: -1;}#sk-container-id-3 div.sk-parallel-item {display: flex;flex-direction: column;z-index: 1;position: relative;background-color: white;}#sk-container-id-3 div.sk-parallel-item:first-child::after {align-self: flex-end;width: 50%;}#sk-container-id-3 div.sk-parallel-item:last-child::after {align-self: flex-start;width: 50%;}#sk-container-id-3 div.sk-parallel-item:only-child::after {width: 0;}#sk-container-id-3 div.sk-dashed-wrapped {border: 1px dashed gray;margin: 0 0.4em 0.5em 0.4em;box-sizing: border-box;padding-bottom: 0.4em;background-color: white;}#sk-container-id-3 div.sk-label label {font-family: monospace;font-weight: bold;display: inline-block;line-height: 1.2em;}#sk-container-id-3 div.sk-label-container {text-align: center;}#sk-container-id-3 div.sk-container {/* jupyter's `normalize.less` sets `[hidden] { display: none; }` but bootstrap.min.css set `[hidden] { display: none !important; }` so we also need the `!important` here to be able to override the default hidden behavior on the sphinx rendered scikit-learn.org. See: https://github.com/scikit-learn/scikit-learn/issues/21755 */display: inline-block !important;position: relative;}#sk-container-id-3 div.sk-text-repr-fallback {display: none;}</style><div id=\"sk-container-id-3\" class=\"sk-top-container\"><div class=\"sk-text-repr-fallback\"><pre>PCA(n_components=90, whiten=True)</pre><b>In a Jupyter environment, please rerun this cell to show the HTML representation or trust the notebook. <br />On GitHub, the HTML representation is unable to render, please try loading this page with nbviewer.org.</b></div><div class=\"sk-container\" hidden><div class=\"sk-item\"><div class=\"sk-estimator sk-toggleable\"><input class=\"sk-toggleable__control sk-hidden--visually\" id=\"sk-estimator-id-3\" type=\"checkbox\" checked><label for=\"sk-estimator-id-3\" class=\"sk-toggleable__label sk-toggleable__label-arrow\">PCA</label><div class=\"sk-toggleable__content\"><pre>PCA(n_components=90, whiten=True)</pre></div></div></div></div></div>"
      ],
      "text/plain": [
       "PCA(n_components=90, whiten=True)"
      ]
     },
     "execution_count": 113,
     "metadata": {},
     "output_type": "execute_result"
    }
   ],
   "source": [
    "pca=PCA(n_components=n_components, whiten=True)\n",
    "pca.fit(X_train)"
   ]
  },
  {
   "cell_type": "markdown",
   "metadata": {
    "_uuid": "ba4ff1742b76edfefb9ab442c598cd0da0fc7b51"
   },
   "source": [
    "\n",
    "<a class=\"anchor\" id=\"3.5.\"></a>**4.4. Показать \"среднее\" лицо**  "
   ]
  },
  {
   "cell_type": "markdown",
   "metadata": {
    "_uuid": "2dd3f9acb55f34d172b74e3d0491924e3df0adf1"
   },
   "source": [
    "\n",
    "<a class=\"anchor\" id=\"3.5e1.\"></a>**4.5. Демонстрация собственных параметров (выделяющиеся черты)** "
   ]
  },
  {
   "cell_type": "markdown",
   "metadata": {
    "_uuid": "736db87eb6bb1fa52756c3132d5d7ae00aad3199"
   },
   "source": [
    "\n",
    "<a class=\"anchor\" id=\"3.6.\"></a>**4.6. Результаты классификации**  "
   ]
  },
  {
   "cell_type": "code",
   "execution_count": 116,
   "metadata": {
    "_uuid": "6224d3acbb4fe2c75deae46e4bb32f4c810b30c0",
    "execution": {
     "iopub.execute_input": "2024-10-22T14:43:27.360875Z",
     "iopub.status.busy": "2024-10-22T14:43:27.360503Z",
     "iopub.status.idle": "2024-10-22T14:43:27.384596Z",
     "shell.execute_reply": "2024-10-22T14:43:27.383280Z",
     "shell.execute_reply.started": "2024-10-22T14:43:27.360838Z"
    },
    "trusted": true
   },
   "outputs": [],
   "source": [
    "X_train_pca=pca.transform(X_train)\n",
    "X_test_pca=pca.transform(X_test)"
   ]
  },
  {
   "cell_type": "code",
   "execution_count": 117,
   "metadata": {
    "_uuid": "dd22fd62ac6f97a6735f2c392c484eb72ef33e11",
    "execution": {
     "iopub.execute_input": "2024-10-22T14:43:27.387008Z",
     "iopub.status.busy": "2024-10-22T14:43:27.386383Z",
     "iopub.status.idle": "2024-10-22T14:43:27.457650Z",
     "shell.execute_reply": "2024-10-22T14:43:27.456481Z",
     "shell.execute_reply.started": "2024-10-22T14:43:27.386952Z"
    },
    "trusted": true
   },
   "outputs": [
    {
     "name": "stdout",
     "output_type": "stream",
     "text": [
      "точность:0.93\n"
     ]
    }
   ],
   "source": [
    "clf = SVC()\n",
    "clf.fit(X_train_pca, y_train)\n",
    "y_pred = clf.predict(X_test_pca)\n",
    "print(\"точность:{:.2f}\".format(metrics.accuracy_score(y_test, y_pred)))"
   ]
  },
  {
   "cell_type": "code",
   "execution_count": 119,
   "metadata": {
    "_kg_hide-output": true,
    "_uuid": "f8dea438aad6457e7242777b3f0649f5d8f9bfa4",
    "execution": {
     "iopub.execute_input": "2024-10-22T14:43:28.326892Z",
     "iopub.status.busy": "2024-10-22T14:43:28.326435Z",
     "iopub.status.idle": "2024-10-22T14:43:28.345791Z",
     "shell.execute_reply": "2024-10-22T14:43:28.344177Z",
     "shell.execute_reply.started": "2024-10-22T14:43:28.326841Z"
    },
    "trusted": true
   },
   "outputs": [
    {
     "name": "stdout",
     "output_type": "stream",
     "text": [
      "              precision    recall  f1-score   support\n",
      "\n",
      "           0       0.50      0.33      0.40         3\n",
      "           1       1.00      1.00      1.00         3\n",
      "           2       0.67      0.67      0.67         3\n",
      "           3       1.00      1.00      1.00         3\n",
      "           4       1.00      0.67      0.80         3\n",
      "           5       1.00      1.00      1.00         3\n",
      "           6       1.00      0.67      0.80         3\n",
      "           7       1.00      0.67      0.80         3\n",
      "           8       1.00      1.00      1.00         3\n",
      "           9       1.00      1.00      1.00         3\n",
      "          10       1.00      1.00      1.00         3\n",
      "          11       1.00      1.00      1.00         3\n",
      "          12       1.00      0.67      0.80         3\n",
      "          13       1.00      1.00      1.00         3\n",
      "          14       1.00      1.00      1.00         3\n",
      "          15       0.75      1.00      0.86         3\n",
      "          16       1.00      1.00      1.00         3\n",
      "          17       1.00      1.00      1.00         3\n",
      "          18       1.00      1.00      1.00         3\n",
      "          19       1.00      1.00      1.00         3\n",
      "          20       0.60      1.00      0.75         3\n",
      "          21       1.00      0.67      0.80         3\n",
      "          22       1.00      1.00      1.00         3\n",
      "          23       1.00      1.00      1.00         3\n",
      "          24       1.00      1.00      1.00         3\n",
      "          25       1.00      1.00      1.00         3\n",
      "          26       1.00      1.00      1.00         3\n",
      "          27       1.00      1.00      1.00         3\n",
      "          28       1.00      1.00      1.00         3\n",
      "          29       1.00      1.00      1.00         3\n",
      "          30       1.00      1.00      1.00         3\n",
      "          31       1.00      0.67      0.80         3\n",
      "          32       1.00      1.00      1.00         3\n",
      "          33       1.00      1.00      1.00         3\n",
      "          34       1.00      1.00      1.00         3\n",
      "          35       1.00      1.00      1.00         3\n",
      "          36       1.00      1.00      1.00         3\n",
      "          37       1.00      1.00      1.00         3\n",
      "          38       0.75      1.00      0.86         3\n",
      "          39       0.50      1.00      0.67         3\n",
      "\n",
      "    accuracy                           0.93       120\n",
      "   macro avg       0.94      0.93      0.92       120\n",
      "weighted avg       0.94      0.93      0.92       120\n",
      "\n"
     ]
    }
   ],
   "source": [
    "print(metrics.classification_report(y_test, y_pred))"
   ]
  },
  {
   "cell_type": "markdown",
   "metadata": {
    "_uuid": "07db81f1c5ccf6314c21dbd0d9b2ab37544710cc",
    "trusted": true
   },
   "source": [
    "\n",
    "<a class=\"anchor\" id=\"3.7.\"></a>**4.7. Дополнительные результаты** \n"
   ]
  },
  {
   "cell_type": "code",
   "execution_count": 120,
   "metadata": {
    "_uuid": "30f9331919a4baaf229c594f82b4d74511cdc637",
    "execution": {
     "iopub.execute_input": "2024-10-22T14:43:28.347636Z",
     "iopub.status.busy": "2024-10-22T14:43:28.347289Z",
     "iopub.status.idle": "2024-10-22T14:43:28.715860Z",
     "shell.execute_reply": "2024-10-22T14:43:28.714637Z",
     "shell.execute_reply.started": "2024-10-22T14:43:28.347600Z"
    },
    "trusted": true
   },
   "outputs": [
    {
     "name": "stdout",
     "output_type": "stream",
     "text": [
      "========== LDA LDA РЕЗУЛЬТАТ ==========\n",
      "Точность:0.93\n",
      "\n",
      "========== LR LDA РЕЗУЛЬТАТ ==========\n",
      "Точность:0.93\n",
      "\n",
      "========== NB LDA РЕЗУЛЬТАТ ==========\n",
      "Точность:0.88\n",
      "\n",
      "========== KNN LDA РЕЗУЛЬТАТ ==========\n",
      "Точность:0.72\n",
      "\n",
      "========== DT LDA РЕЗУЛЬТАТ ==========\n",
      "Точность:0.62\n",
      "\n",
      "========== SVM LDA РЕЗУЛЬТАТ ==========\n",
      "Точность:0.93\n",
      "\n"
     ]
    }
   ],
   "source": [
    "models=[]\n",
    "models.append(('LDA', LinearDiscriminantAnalysis()))\n",
    "models.append((\"LR\",LogisticRegression()))\n",
    "models.append((\"NB\",GaussianNB()))\n",
    "models.append((\"KNN\",KNeighborsClassifier(n_neighbors=5)))\n",
    "models.append((\"DT\",DecisionTreeClassifier()))\n",
    "models.append((\"SVM\",SVC()))\n",
    "\n",
    "\n",
    "for name, model in models:\n",
    "    \n",
    "    clf=model\n",
    "\n",
    "    clf.fit(X_train_pca, y_train)\n",
    "\n",
    "    y_pred=clf.predict(X_test_pca)\n",
    "    print(10*\"=\",\"{} LDA результат\".format(name).upper(),10*\"=\")\n",
    "    print(\"Точность:{:0.2f}\".format(metrics.accuracy_score(y_test, y_pred)))\n",
    "    print()"
   ]
  },
  {
   "cell_type": "markdown",
   "metadata": {
    "_uuid": "959e2e1bd0a135e543f8ab1931c815963414ec7b"
   },
   "source": [
    "Согласно приведенным выше результатам, линейный дискриминантный анализ и логистическая регрессия, по-видимому, демонстрируют наилучшие результаты."
   ]
  },
  {
   "cell_type": "markdown",
   "metadata": {
    "_uuid": "71ba6172be1de1b0c209a5b5762c4086d42150d0"
   },
   "source": [
    "\n",
    "<a class=\"anchor\" id=\"3.8.\"></a>**4.8. Подтвержденные результаты**  "
   ]
  },
  {
   "cell_type": "code",
   "execution_count": 121,
   "metadata": {
    "_uuid": "f040f1e577a6fd2d06e67a32e59ce5c18df6d45d",
    "execution": {
     "iopub.execute_input": "2024-10-22T14:43:28.718317Z",
     "iopub.status.busy": "2024-10-22T14:43:28.717790Z",
     "iopub.status.idle": "2024-10-22T14:43:30.652559Z",
     "shell.execute_reply": "2024-10-22T14:43:30.651259Z",
     "shell.execute_reply.started": "2024-10-22T14:43:28.718262Z"
    },
    "trusted": true
   },
   "outputs": [
    {
     "name": "stdout",
     "output_type": "stream",
     "text": [
      "LDA Средний балл кроссов:0.98\n",
      "LR Средний балл кроссов:0.94\n",
      "NB Средний балл кроссов:0.78\n",
      "KNN Средний балл кроссов:0.70\n",
      "DT Средний балл кроссов:0.51\n",
      "SVM Средний балл кроссов:0.86\n"
     ]
    }
   ],
   "source": [
    "from sklearn.model_selection import cross_val_score\n",
    "from sklearn.model_selection import KFold\n",
    "pca=PCA(n_components=n_components, whiten=True)\n",
    "pca.fit(X)\n",
    "X_pca=pca.transform(X)\n",
    "for name, model in models:\n",
    "    kfold=KFold(n_splits=5, shuffle=True, random_state=0)\n",
    "    \n",
    "    cv_scores=cross_val_score(model, X_pca, target, cv=kfold)\n",
    "    print(\"{} Средний балл кроссов:{:.2f}\".format(name, cv_scores.mean()))"
   ]
  },
  {
   "cell_type": "markdown",
   "metadata": {
    "_uuid": "ff11c269d7bf0e6813c99be173124eabfaf1725a"
   },
   "source": [
    "Согласно результатам перекрестной проверки, линейный дискриминантный анализ и логистическая регрессия по-прежнему демонстрируют наилучшие результаты\n"
   ]
  },
  {
   "cell_type": "code",
   "execution_count": 122,
   "metadata": {
    "_uuid": "2e1d999228e6136f425a8c61ebf2ceca548446e4",
    "execution": {
     "iopub.execute_input": "2024-10-22T14:43:30.654460Z",
     "iopub.status.busy": "2024-10-22T14:43:30.654077Z",
     "iopub.status.idle": "2024-10-22T14:43:30.689437Z",
     "shell.execute_reply": "2024-10-22T14:43:30.688156Z",
     "shell.execute_reply.started": "2024-10-22T14:43:30.654423Z"
    },
    "trusted": true
   },
   "outputs": [
    {
     "name": "stdout",
     "output_type": "stream",
     "text": [
      "Точность:0.93\n"
     ]
    }
   ],
   "source": [
    "lr=LinearDiscriminantAnalysis()\n",
    "lr.fit(X_train_pca, y_train)\n",
    "y_pred=lr.predict(X_test_pca)\n",
    "print(\"Точность:{:.2f}\".format(metrics.accuracy_score(y_test, y_pred)))"
   ]
  },
  {
   "cell_type": "code",
   "execution_count": 124,
   "metadata": {
    "_uuid": "c3d028056fcffbda9dee5ca1d1ac45b7e8fc13c7",
    "execution": {
     "iopub.execute_input": "2024-10-22T14:43:31.592183Z",
     "iopub.status.busy": "2024-10-22T14:43:31.591804Z",
     "iopub.status.idle": "2024-10-22T14:43:31.608244Z",
     "shell.execute_reply": "2024-10-22T14:43:31.607175Z",
     "shell.execute_reply.started": "2024-10-22T14:43:31.592132Z"
    },
    "trusted": true
   },
   "outputs": [
    {
     "name": "stdout",
     "output_type": "stream",
     "text": [
      "Результаты классификации:\n",
      "              precision    recall  f1-score   support\n",
      "\n",
      "           0       1.00      0.33      0.50         3\n",
      "           1       1.00      1.00      1.00         3\n",
      "           2       1.00      1.00      1.00         3\n",
      "           3       1.00      1.00      1.00         3\n",
      "           4       1.00      0.67      0.80         3\n",
      "           5       1.00      1.00      1.00         3\n",
      "           6       1.00      1.00      1.00         3\n",
      "           7       1.00      0.67      0.80         3\n",
      "           8       1.00      1.00      1.00         3\n",
      "           9       1.00      1.00      1.00         3\n",
      "          10       1.00      1.00      1.00         3\n",
      "          11       1.00      1.00      1.00         3\n",
      "          12       0.50      0.67      0.57         3\n",
      "          13       1.00      1.00      1.00         3\n",
      "          14       1.00      1.00      1.00         3\n",
      "          15       1.00      1.00      1.00         3\n",
      "          16       1.00      1.00      1.00         3\n",
      "          17       1.00      1.00      1.00         3\n",
      "          18       1.00      1.00      1.00         3\n",
      "          19       1.00      1.00      1.00         3\n",
      "          20       0.60      1.00      0.75         3\n",
      "          21       1.00      0.67      0.80         3\n",
      "          22       1.00      1.00      1.00         3\n",
      "          23       1.00      1.00      1.00         3\n",
      "          24       0.75      1.00      0.86         3\n",
      "          25       1.00      1.00      1.00         3\n",
      "          26       1.00      0.67      0.80         3\n",
      "          27       1.00      1.00      1.00         3\n",
      "          28       1.00      1.00      1.00         3\n",
      "          29       1.00      1.00      1.00         3\n",
      "          30       1.00      1.00      1.00         3\n",
      "          31       1.00      0.67      0.80         3\n",
      "          32       1.00      1.00      1.00         3\n",
      "          33       1.00      1.00      1.00         3\n",
      "          34       1.00      1.00      1.00         3\n",
      "          35       1.00      1.00      1.00         3\n",
      "          36       1.00      1.00      1.00         3\n",
      "          37       1.00      1.00      1.00         3\n",
      "          38       0.75      1.00      0.86         3\n",
      "          39       0.60      1.00      0.75         3\n",
      "\n",
      "    accuracy                           0.93       120\n",
      "   macro avg       0.96      0.93      0.93       120\n",
      "weighted avg       0.95      0.93      0.93       120\n",
      "\n"
     ]
    }
   ],
   "source": [
    "print(\"Результаты классификации:\\n{}\".format(metrics.classification_report(y_test, y_pred)))"
   ]
  },
  {
   "cell_type": "markdown",
   "metadata": {
    "_uuid": "747770527e7391f8313652c0d2feacff281021a5",
    "trusted": true
   },
   "source": [
    "\n",
    "<a class=\"anchor\" id=\"3.9.\"></a>**4.9. Более подтвержденные результаты: Leave One Out без дополнительной проверки** \n",
    "\n",
    "Набор данных Olivetti содержит по 10 изображений лиц для каждого человека. Это небольшое количество для обучения и тестирования моделей машинного обучения. Существует рекомендуемый метод перекрестной проверки для лучшей оценки моделей машинного обучения, в которых имеется несколько примеров классов. При использовании подхода LOO для тестирования используется только одна выборка из класса. Остальные используются для обучения. Эта процедура повторяется до тех пор, пока каждая выборка не будет использована для тестирования."
   ]
  },
  {
   "cell_type": "code",
   "execution_count": 125,
   "metadata": {
    "_uuid": "13a677bb8ea86405416eb74986b122df06cd9d7d",
    "execution": {
     "iopub.execute_input": "2024-10-22T14:43:31.609868Z",
     "iopub.status.busy": "2024-10-22T14:43:31.609522Z",
     "iopub.status.idle": "2024-10-22T14:43:53.040391Z",
     "shell.execute_reply": "2024-10-22T14:43:53.039235Z",
     "shell.execute_reply.started": "2024-10-22T14:43:31.609831Z"
    },
    "trusted": true
   },
   "outputs": [
    {
     "name": "stdout",
     "output_type": "stream",
     "text": [
      "LogisticRegression Leave One Out cross-validation mean accuracy score:0.94\n"
     ]
    }
   ],
   "source": [
    "from sklearn.model_selection import LeaveOneOut\n",
    "loo_cv=LeaveOneOut()\n",
    "clf=LogisticRegression()\n",
    "cv_scores=cross_val_score(clf,\n",
    "                         X_pca,\n",
    "                         target,\n",
    "                         cv=loo_cv)\n",
    "print(\"{} Leave One Out перекрестная проверка средняя оценка точности:{:.2f}\".format(clf.__class__.__name__, \n",
    "                                                                            cv_scores.mean()))"
   ]
  },
  {
   "cell_type": "code",
   "execution_count": 126,
   "metadata": {
    "_uuid": "d12c9cc9f83358522262348fc4ce86b0d92f4d7a",
    "execution": {
     "iopub.execute_input": "2024-10-22T14:43:53.043031Z",
     "iopub.status.busy": "2024-10-22T14:43:53.041970Z",
     "iopub.status.idle": "2024-10-22T14:44:37.703197Z",
     "shell.execute_reply": "2024-10-22T14:44:37.702148Z",
     "shell.execute_reply.started": "2024-10-22T14:43:53.042970Z"
    },
    "trusted": true
   },
   "outputs": [
    {
     "name": "stdout",
     "output_type": "stream",
     "text": [
      "LinearDiscriminantAnalysis Leave One Out перекрестная проверка средняя оценка точности:0.98\n"
     ]
    }
   ],
   "source": [
    "from sklearn.model_selection import LeaveOneOut\n",
    "loo_cv=LeaveOneOut()\n",
    "clf=LinearDiscriminantAnalysis()\n",
    "cv_scores=cross_val_score(clf,\n",
    "                         X_pca,\n",
    "                         target,\n",
    "                         cv=loo_cv)\n",
    "print(\"{} Leave One Out перекрестная проверка средняя оценка точности:{:.2f}\".format(clf.__class__.__name__, \n",
    "                                                                            cv_scores.mean()))"
   ]
  },
  {
   "cell_type": "markdown",
   "metadata": {
    "_uuid": "b2c90a74572ecfa935eb45eef79aa60cc402be1e",
    "trusted": true
   },
   "source": [
    "\n",
    "<a class=\"anchor\" id=\"3.10.\"></a>**4.10. Настройка гиперпараметров: GridSearcCV** \n",
    "\n",
    "Мы можем использовать GridSearchCV для улучшения производительности обобщения модели. Для этого настроим гиперпараметры классификатора логистической регрессии."
   ]
  },
  {
   "cell_type": "code",
   "execution_count": 127,
   "metadata": {
    "_uuid": "711de11f046ecb11c0cc70d5860dbb1431ca9f9e",
    "execution": {
     "iopub.execute_input": "2024-10-22T14:44:37.713111Z",
     "iopub.status.busy": "2024-10-22T14:44:37.709482Z",
     "iopub.status.idle": "2024-10-22T14:44:37.723663Z",
     "shell.execute_reply": "2024-10-22T14:44:37.721884Z",
     "shell.execute_reply.started": "2024-10-22T14:44:37.713028Z"
    },
    "trusted": true
   },
   "outputs": [],
   "source": [
    "from sklearn.model_selection import GridSearchCV"
   ]
  },
  {
   "cell_type": "code",
   "execution_count": 128,
   "metadata": {
    "_uuid": "5773eb058ee20714444dee16bb463758cd5d3684",
    "execution": {
     "iopub.execute_input": "2024-10-22T14:44:37.734667Z",
     "iopub.status.busy": "2024-10-22T14:44:37.730905Z",
     "iopub.status.idle": "2024-10-22T14:44:37.824051Z",
     "shell.execute_reply": "2024-10-22T14:44:37.822908Z",
     "shell.execute_reply.started": "2024-10-22T14:44:37.734595Z"
    },
    "trusted": true
   },
   "outputs": [
    {
     "name": "stdout",
     "output_type": "stream",
     "text": [
      "lr счёт:0.93\n"
     ]
    }
   ],
   "source": [
    "lr=LogisticRegression(C=1.0, penalty=\"l2\")\n",
    "lr.fit(X_train_pca, y_train)\n",
    "print(\"lr счёт:{:.2f}\".format(lr.score(X_test_pca, y_test)))"
   ]
  },
  {
   "cell_type": "code",
   "execution_count": 129,
   "metadata": {
    "_uuid": "1cdf1ef32c3e916ace574e19622d3d16633416c9",
    "execution": {
     "iopub.execute_input": "2024-10-22T14:44:37.826997Z",
     "iopub.status.busy": "2024-10-22T14:44:37.826040Z",
     "iopub.status.idle": "2024-10-22T14:44:37.849165Z",
     "shell.execute_reply": "2024-10-22T14:44:37.848102Z",
     "shell.execute_reply.started": "2024-10-22T14:44:37.826936Z"
    },
    "trusted": true
   },
   "outputs": [
    {
     "name": "stdout",
     "output_type": "stream",
     "text": [
      "Точность:0.93\n",
      "Результаты классификации:\n",
      "              precision    recall  f1-score   support\n",
      "\n",
      "           0       1.00      0.33      0.50         3\n",
      "           1       1.00      1.00      1.00         3\n",
      "           2       1.00      1.00      1.00         3\n",
      "           3       1.00      1.00      1.00         3\n",
      "           4       1.00      0.67      0.80         3\n",
      "           5       1.00      1.00      1.00         3\n",
      "           6       1.00      1.00      1.00         3\n",
      "           7       1.00      0.67      0.80         3\n",
      "           8       1.00      1.00      1.00         3\n",
      "           9       1.00      1.00      1.00         3\n",
      "          10       1.00      1.00      1.00         3\n",
      "          11       1.00      1.00      1.00         3\n",
      "          12       0.50      0.67      0.57         3\n",
      "          13       1.00      1.00      1.00         3\n",
      "          14       1.00      1.00      1.00         3\n",
      "          15       1.00      1.00      1.00         3\n",
      "          16       1.00      1.00      1.00         3\n",
      "          17       1.00      1.00      1.00         3\n",
      "          18       1.00      1.00      1.00         3\n",
      "          19       1.00      1.00      1.00         3\n",
      "          20       0.60      1.00      0.75         3\n",
      "          21       1.00      0.67      0.80         3\n",
      "          22       1.00      1.00      1.00         3\n",
      "          23       1.00      1.00      1.00         3\n",
      "          24       0.75      1.00      0.86         3\n",
      "          25       1.00      1.00      1.00         3\n",
      "          26       1.00      0.67      0.80         3\n",
      "          27       1.00      1.00      1.00         3\n",
      "          28       1.00      1.00      1.00         3\n",
      "          29       1.00      1.00      1.00         3\n",
      "          30       1.00      1.00      1.00         3\n",
      "          31       1.00      0.67      0.80         3\n",
      "          32       1.00      1.00      1.00         3\n",
      "          33       1.00      1.00      1.00         3\n",
      "          34       1.00      1.00      1.00         3\n",
      "          35       1.00      1.00      1.00         3\n",
      "          36       1.00      1.00      1.00         3\n",
      "          37       1.00      1.00      1.00         3\n",
      "          38       0.75      1.00      0.86         3\n",
      "          39       0.60      1.00      0.75         3\n",
      "\n",
      "    accuracy                           0.93       120\n",
      "   macro avg       0.96      0.93      0.93       120\n",
      "weighted avg       0.95      0.93      0.93       120\n",
      "\n"
     ]
    }
   ],
   "source": [
    "print(\"Точность:{:.2f}\".format(metrics.accuracy_score(y_test, y_pred)))\n",
    "print(\"Результаты классификации:\\n{}\".format(metrics.classification_report(y_test, y_pred)))"
   ]
  },
  {
   "cell_type": "markdown",
   "metadata": {
    "_uuid": "373a31a056f8e984e5c68cd2da610898652b44bb",
    "trusted": true
   },
   "source": [
    "\n",
    "<a class=\"anchor\" id=\"6.\"></a>**5. Автоматизированный рабочий процесс машинного обучения: конвейер** \n",
    "\n",
    "Применение машинного обучения к наборам данных имеет стандартный рабочий процесс. Sklearn предлагает объект Pipeline для автоматизации этого рабочего процесса. Pipeline позволяет выполнять стандартные рабочие процессы для выполнения операций машинного обучения, таких как масштабирование, извлечение объектов и моделирование. Конвейер гарантирует одинаковую работу со всем набором данных, обеспечивая согласованность обучающих и тестовых данных."
   ]
  },
  {
   "cell_type": "code",
   "execution_count": 130,
   "metadata": {
    "_uuid": "559b4c92c144e379ee38f6e85aa00e97d4b2641e",
    "execution": {
     "iopub.execute_input": "2024-10-22T14:44:37.851975Z",
     "iopub.status.busy": "2024-10-22T14:44:37.851116Z",
     "iopub.status.idle": "2024-10-22T14:44:37.857900Z",
     "shell.execute_reply": "2024-10-22T14:44:37.856540Z",
     "shell.execute_reply.started": "2024-10-22T14:44:37.851916Z"
    },
    "trusted": true
   },
   "outputs": [],
   "source": [
    "from sklearn.pipeline import Pipeline"
   ]
  },
  {
   "cell_type": "code",
   "execution_count": 131,
   "metadata": {
    "_uuid": "a2fed9cc65a241da09a161de2185802aaf5eacdf",
    "execution": {
     "iopub.execute_input": "2024-10-22T14:44:37.861639Z",
     "iopub.status.busy": "2024-10-22T14:44:37.860511Z",
     "iopub.status.idle": "2024-10-22T14:44:37.883889Z",
     "shell.execute_reply": "2024-10-22T14:44:37.882778Z",
     "shell.execute_reply.started": "2024-10-22T14:44:37.861581Z"
    },
    "trusted": true
   },
   "outputs": [
    {
     "name": "stdout",
     "output_type": "stream",
     "text": [
      "Точность:0.93\n",
      "Результаты классификации:\n",
      "              precision    recall  f1-score   support\n",
      "\n",
      "           0       1.00      0.33      0.50         3\n",
      "           1       1.00      1.00      1.00         3\n",
      "           2       1.00      1.00      1.00         3\n",
      "           3       1.00      1.00      1.00         3\n",
      "           4       1.00      0.67      0.80         3\n",
      "           5       1.00      1.00      1.00         3\n",
      "           6       1.00      1.00      1.00         3\n",
      "           7       1.00      0.67      0.80         3\n",
      "           8       1.00      1.00      1.00         3\n",
      "           9       1.00      1.00      1.00         3\n",
      "          10       1.00      1.00      1.00         3\n",
      "          11       1.00      1.00      1.00         3\n",
      "          12       0.50      0.67      0.57         3\n",
      "          13       1.00      1.00      1.00         3\n",
      "          14       1.00      1.00      1.00         3\n",
      "          15       1.00      1.00      1.00         3\n",
      "          16       1.00      1.00      1.00         3\n",
      "          17       1.00      1.00      1.00         3\n",
      "          18       1.00      1.00      1.00         3\n",
      "          19       1.00      1.00      1.00         3\n",
      "          20       0.60      1.00      0.75         3\n",
      "          21       1.00      0.67      0.80         3\n",
      "          22       1.00      1.00      1.00         3\n",
      "          23       1.00      1.00      1.00         3\n",
      "          24       0.75      1.00      0.86         3\n",
      "          25       1.00      1.00      1.00         3\n",
      "          26       1.00      0.67      0.80         3\n",
      "          27       1.00      1.00      1.00         3\n",
      "          28       1.00      1.00      1.00         3\n",
      "          29       1.00      1.00      1.00         3\n",
      "          30       1.00      1.00      1.00         3\n",
      "          31       1.00      0.67      0.80         3\n",
      "          32       1.00      1.00      1.00         3\n",
      "          33       1.00      1.00      1.00         3\n",
      "          34       1.00      1.00      1.00         3\n",
      "          35       1.00      1.00      1.00         3\n",
      "          36       1.00      1.00      1.00         3\n",
      "          37       1.00      1.00      1.00         3\n",
      "          38       0.75      1.00      0.86         3\n",
      "          39       0.60      1.00      0.75         3\n",
      "\n",
      "    accuracy                           0.93       120\n",
      "   macro avg       0.96      0.93      0.93       120\n",
      "weighted avg       0.95      0.93      0.93       120\n",
      "\n"
     ]
    }
   ],
   "source": [
    "print(\"Точность:{:.2f}\".format(metrics.accuracy_score(y_test, y_pred)))\n",
    "print(\"Результаты классификации:\\n{}\".format(metrics.classification_report(y_test, y_pred)))"
   ]
  },
  {
   "cell_type": "code",
   "execution_count": null,
   "metadata": {
    "_uuid": "703548c59ca0218a2da93c9a44ac85f000fdc944",
    "trusted": true
   },
   "outputs": [],
   "source": []
  }
 ],
 "metadata": {
  "kaggle": {
   "accelerator": "none",
   "dataSources": [
    {
     "datasetId": 8231,
     "sourceId": 11524,
     "sourceType": "datasetVersion"
    }
   ],
   "dockerImageVersionId": 30786,
   "isGpuEnabled": false,
   "isInternetEnabled": false,
   "language": "python",
   "sourceType": "notebook"
  },
  "kernelspec": {
   "display_name": "Python 3",
   "language": "python",
   "name": "python3"
  },
  "language_info": {
   "codemirror_mode": {
    "name": "ipython",
    "version": 3
   },
   "file_extension": ".py",
   "mimetype": "text/x-python",
   "name": "python",
   "nbconvert_exporter": "python",
   "pygments_lexer": "ipython3",
   "version": "3.10.14"
  }
 },
 "nbformat": 4,
 "nbformat_minor": 4
}
